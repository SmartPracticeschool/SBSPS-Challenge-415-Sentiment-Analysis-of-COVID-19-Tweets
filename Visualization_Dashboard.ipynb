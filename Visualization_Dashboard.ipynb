{
 "cells": [
  {
   "cell_type": "code",
   "execution_count": 1,
   "metadata": {},
   "outputs": [],
   "source": [
    "import dash\n",
    "import dash_core_components as dcc\n",
    "import dash_html_components as html"
   ]
  },
  {
   "cell_type": "code",
   "execution_count": 2,
   "metadata": {},
   "outputs": [],
   "source": [
    "app= dash.Dash()"
   ]
  },
  {
   "cell_type": "code",
   "execution_count": 3,
   "metadata": {
    "scrolled": true
   },
   "outputs": [],
   "source": [
    "import plotly.express as px\n",
    "\n",
    "app.layout = html.Div(children =[ \n",
    "    html.H1(\"Sentiment Visualization Dashboard \"), \n",
    "    dcc.Graph( \n",
    "        id =\"first\", \n",
    "        figure ={ \n",
    "            'data':[ \n",
    "                       {'x':[1, 2, 3, 4, 5], \n",
    "                        'y':[53.609239653512994, 37.15110683349375, 9.2396535129932638], \n",
    "                        'type':'scatter',  \n",
    "                        'name':'Sentiment score'}, \n",
    "                       {'x':[1, 2, 3, 4, 5],  \n",
    "                        'y':[53.609239653512994, 37.15110683349375, 9.239653512993263],  \n",
    "                        'type':'bar', 'name':'Sentiment score'\n",
    "                        } \n",
    "                   ], \n",
    "            'layout':{ \n",
    "                'title':'Sentiment bar chart'  }  }  )\n",
    "       \n",
    "   \n",
    "]) \n"
   ]
  },
  {
   "cell_type": "code",
   "execution_count": null,
   "metadata": {
    "scrolled": true
   },
   "outputs": [
    {
     "name": "stdout",
     "output_type": "stream",
     "text": [
      " * Serving Flask app \"__main__\" (lazy loading)\n",
      " * Environment: production\n",
      "   WARNING: Do not use the development server in a production environment.\n",
      "   Use a production WSGI server instead.\n",
      " * Debug mode: off\n"
     ]
    },
    {
     "name": "stderr",
     "output_type": "stream",
     "text": [
      " * Running on http://127.0.0.1:8050/ (Press CTRL+C to quit)\n",
      "127.0.0.1 - - [24/Jun/2020 17:11:02] \"GET / HTTP/1.1\" 200 -\n",
      "127.0.0.1 - - [24/Jun/2020 17:11:02] \"GET /_dash-layout HTTP/1.1\" 200 -\n",
      "127.0.0.1 - - [24/Jun/2020 17:11:02] \"GET /_dash-dependencies HTTP/1.1\" 200 -\n"
     ]
    }
   ],
   "source": [
    "if __name__ == '__main__': \n",
    "    app.run_server() "
   ]
  },
  {
   "cell_type": "code",
   "execution_count": null,
   "metadata": {},
   "outputs": [],
   "source": [
    "import plotly.graph_objects as go\n",
    "import plotly.express as px\n",
    "\n",
    "import numpy as np\n",
    "import pandas as pd\n",
    "df=pd.read_csv(\"final_data.csv\")\n",
    "N=100000\n",
    "fig = go.Figure(data=go.Scattergl(\n",
    "    x = df['textblob_sent'],\n",
    "    mode='markers',\n",
    "    marker=dict(\n",
    "        color=np.random.randn(N),\n",
    "        colorscale='delta',\n",
    "        line_width=1)))\n",
    "    \n",
    "\n",
    "fig1 = px.line(x=df[\"textblob_sent\"],  labels={'y':'sentiment score)'})\n",
    "\n",
    "\n",
    "import dash\n",
    "import dash_core_components as dcc\n",
    "import dash_html_components as html\n",
    "\n",
    "app = dash.Dash()\n",
    "app.layout = html.Div([\n",
    "    dcc.Graph(figure=fig)])\n",
    "  \n",
    "    \n",
    "\n",
    "\n",
    "app.run_server(debug=True, use_reloader=False)  # Turn off reloader if inside Jupyter"
   ]
  },
  {
   "cell_type": "code",
   "execution_count": null,
   "metadata": {},
   "outputs": [],
   "source": []
  },
  {
   "cell_type": "code",
   "execution_count": null,
   "metadata": {},
   "outputs": [],
   "source": []
  }
 ],
 "metadata": {
  "kernelspec": {
   "display_name": "Python 3",
   "language": "python",
   "name": "python3"
  },
  "language_info": {
   "codemirror_mode": {
    "name": "ipython",
    "version": 3
   },
   "file_extension": ".py",
   "mimetype": "text/x-python",
   "name": "python",
   "nbconvert_exporter": "python",
   "pygments_lexer": "ipython3",
   "version": "3.7.1"
  }
 },
 "nbformat": 4,
 "nbformat_minor": 2
}
